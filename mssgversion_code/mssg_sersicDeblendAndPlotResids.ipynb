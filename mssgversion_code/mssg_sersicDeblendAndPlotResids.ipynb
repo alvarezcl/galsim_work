{
 "cells": [
  {
   "cell_type": "code",
   "execution_count": null,
   "metadata": {
    "collapsed": true
   },
   "outputs": [],
   "source": []
  },
  {
   "cell_type": "code",
   "execution_count": 245,
   "metadata": {
    "collapsed": false
   },
   "outputs": [
    {
     "name": "stdout",
     "output_type": "stream",
     "text": [
      "Populating the interactive namespace from numpy and matplotlib\n"
     ]
    },
    {
     "name": "stderr",
     "output_type": "stream",
     "text": [
      "WARNING: pylab import has clobbered these variables: ['random']\n",
      "`%matplotlib` prevents importing * from pylab and numpy\n"
     ]
    }
   ],
   "source": [
    "# MSSG, based on JEM and LCA code\n",
    "# NB version, Start: 12/2015\n",
    "\n",
    "%pylab inline\n",
    "\n",
    "### Generic imports\n",
    "import lmfit\n",
    "import ipdb\n",
    "import sys\n",
    "import random\n",
    "#import triangle\n",
    "from argparse import ArgumentParser\n",
    "#import matplotlib.pyplot as plt\n",
    "#import numpy as np\n",
    "\n",
    "### Specific imports\n",
    "import galsim\n",
    "import mssg_deblend\n",
    "import mssg_drawLibrary\n",
    "# from mssg_makeplot import *\n",
    "# from mssg_create_blend import *"
   ]
  },
  {
   "cell_type": "code",
   "execution_count": 257,
   "metadata": {
    "collapsed": false
   },
   "outputs": [],
   "source": [
    "\n",
    "###################################################### Function to create the blended img\n",
    "\n",
    "def create_blend(peak_a, peak_b, flux_bTOa = 1, size_bTOa = 1, e1a = 0, e1b = 0 , e2a = 0, e2b = 0, imgsize = 0, \n",
    "                 pixelscale = 0, \n",
    "                 mrkrsize = 10, psetval = 1, galtype = 'G', verbose = 0, plotflag =  plotflag):\n",
    "\n",
    "    if (verbose > 0):\n",
    "        print \"--------------> In local createblend\"\n",
    "    # Global vars\n",
    "    randnum=galsim.BaseDeviate(1) # Random num seed -- when set to zero, uses machine time\n",
    "\n",
    "    #### Level to do printing at (setting it lower will plot more stuff)\n",
    "    presetval = psetval\n",
    "    #    plotflag =  0  # The default, to plot the minimum, Higher = plot more\n",
    "    \n",
    "    # Create gaussian gal objs, sheared in various directions\n",
    "    hlr_a = 1.0\n",
    "    hlr_b = hlr_a * size_bTOa\n",
    "\n",
    "    flux_a = 1e7\n",
    "    flux_b = flux_a * flux_bTOa\n",
    "    \n",
    "    # Make the Gaussian gals\n",
    "    gal1 = galsim.Gaussian(half_light_radius= hlr_a , flux= flux_a).shear(g1=e1a, g2= e2a).shift(peak_a)\n",
    "    gal2 = galsim.Gaussian(half_light_radius= hlr_b , flux= flux_b ).shear(g1=e1b, g2= e2b).shift(peak_b)\n",
    "    \n",
    "    ################################# Make actual profile\n",
    "    deVauc_ix = 4 # deVauc bulge\n",
    "    expl_ix = 1   # expl bulge\n",
    "    \n",
    "    if (galtype == 'Se'):\n",
    "    # Create primary galaxy \n",
    "        print \"********* Making Sersic profile expl gals\"\n",
    "        gal1 = galsim.Sersic(n=expl_ix, flux=flux_a,half_light_radius= hlr_a).shift(peak_a)\n",
    "        gal2 = galsim.Sersic(n=expl_ix, flux=flux_b,half_light_radius= hlr_b).shift(peak_b)\n",
    "    else:\n",
    "        if (galtype == 'Sd'):\n",
    "    # Create primary galaxy \n",
    "            print \"********* Making Sersic profile deVauc gals\"\n",
    "            gal1 = galsim.Sersic(n=deVauc_ix, flux=flux_a,half_light_radius= hlr_a).shift(peak_a)\n",
    "            gal2 = galsim.Sersic(n=deVauc_ix, flux=flux_b,half_light_radius= hlr_b).shift(peak_b)\n",
    "\n",
    "        else:\n",
    "            print \"*********** Making Gaussian gals\"\n",
    "#            gal1 = galsim.Sersic(n= 0.5 , flux=flux_a,half_light_radius= hlr_a)\n",
    "#            gal2 = galsim.Sersic(n= 0.5 , flux=flux_b,half_light_radius= hlr_b)\n",
    "    \n",
    "\n",
    "    # Add psf \n",
    "    psfshr = 0.00\n",
    "    psf = galsim.Moffat(beta=3, fwhm=0.85).shear(e1 = psfshr,  e2 = -psfshr)\n",
    "\n",
    "    convgal1 = galsim.Convolve([gal1,psf])\n",
    "    convgal2 = galsim.Convolve([gal2,psf])\n",
    "    \n",
    "    ##################### Now make imgs\n",
    "    ######### Figure out the center\n",
    "    imgcent = imgsize/2\n",
    "\n",
    "    if (verbose > 0):\n",
    "        print \"peak_a[0] = \", peak_a[0]\n",
    "        print 'imgcent = ', imgcent\n",
    "    acent = (imgcent+peak_a[0]/pixelscale, imgcent+peak_a[1]/pixelscale)\n",
    "    bcent = (imgcent+peak_b[0]/pixelscale, imgcent+peak_b[1]/pixelscale)\n",
    "\n",
    "    # Img1\n",
    "    proto_image = galsim.ImageD(imgsize, imgsize, scale = pixelscale)\n",
    "#    image1 = convgal1.drawImage(image=proto_image, method='phot', rng=randnum)  # Photon shooting\n",
    "    image1 = convgal1.drawImage(image=proto_image)\n",
    "\n",
    "#    print image1.array[np.where(image1.array < 0)] \n",
    "#    image1.array[np.where(image1.array < 0)] = 0.\n",
    "    \n",
    "       # Img2\n",
    "    proto_image = galsim.ImageD(imgsize, imgsize, scale = pixelscale)\n",
    "#    image2 = convgal2.drawImage(image=proto_image, method='phot', rng=randnum)   # Photon shooting\n",
    "    image2 = convgal2.drawImage(image=proto_image)\n",
    "#    image2.array[np.where(image2.array < 0)] = 0.    \n",
    "\n",
    "\n",
    "    ############## Add them into one image\n",
    "    imagesum =  image1+image2    \n",
    "\n",
    "     \n",
    "    ########### Optional: If we want to show plots on screen here\n",
    "    if plotflag > presetval:           \n",
    "        if (verbose > 0):\n",
    "             print '************** About to show plots with flux a = ', flux_a , ', flux_b = ', flux_b\n",
    "        pltname =  \" FIRST PLOT:  Img obj a\"\n",
    "        pltcontent =   image1.array \n",
    "        plt.title(\" FIRST PLOT:  Img obj a\")\n",
    "        plt.imshow( image1.array , origin='lower', interpolation='none' );    \n",
    "        plt.colorbar()\n",
    "        plt.plot( acent[0], acent[1], color='g', marker = 'o', markersize=mrkrsize, markeredgewidth=1)\n",
    "        plt.show()\n",
    "        if (verbose > 0):\n",
    "            print \" >>>>>> Plotting img obj a\"\n",
    "            print \" image1.array.sum() \" , image1.array.sum()\n",
    "        center = (peak_a, peak_b)\n",
    "\n",
    "    if plotflag > presetval: \n",
    "        if (verbose > 0):\n",
    "            print \" >>>>>> Plotting img obj b\"\n",
    "        plt.title(\" Img obj b\")\n",
    "        plt.imshow( image2.array , origin='lower',  interpolation='none' );    \n",
    "        plt.colorbar()\n",
    "        plt.plot(bcent[0], bcent[1],  color='y', marker = 'o', markersize=mrkrsize, markeredgewidth=1)\n",
    "        plt.show()\n",
    "    \n",
    "    # Summed img\n",
    "    if plotflag > presetval:\n",
    "        plt.title(\" Img obj a + b\")\n",
    "        if (verbose > 0):\n",
    "            print \" >>>>>> Plotting imgsum\"\n",
    "        plt.plot( acent[0], acent[1], color='g', marker = 'o', markersize=mrkrsize, markeredgewidth=1)\n",
    "        plt.plot(bcent[0], bcent[1],  color='y', marker = 'o', markersize=mrkrsize, markeredgewidth=1)\n",
    "        \n",
    "        plt.imshow( imagesum.array , origin='lower',  interpolation='none' );    \n",
    "        plt.colorbar()\n",
    "        plt.show()\n",
    "    \n",
    "\n",
    "    return imagesum, [image1, image2]\n",
    "\n",
    "\n",
    "#################################################### Function to draw gal figs\n",
    "def makeplot(pltname, pltcontent,  centre=(0,0) , colorbarlimit = 0, location = 'lower', mrkrsize = 10 ,qrtr = 0.25, \n",
    "             verbose = 0, scaling = 'nondk'):\n",
    "\n",
    "    # The dk scaling is to go symmetrically in the color bar from minimum negative to maximum positive identical value\n",
    "    # nondk scaling will let Python pick its own colorscale\n",
    "    # Color bar limit will make Color scale go out of 100%\n",
    "    # mrkrsize is for marking the centers of the objects\n",
    "    # centre is to set the location of the central of the object\n",
    "\n",
    "          if (verbose > 1):\n",
    "            print \" In local makeplot\"\n",
    "            \n",
    "          plt.title(pltname)\n",
    "          if (verbose > 0):\n",
    "            print \" >>>>>> Plotting \", pltname          \n",
    "          dummyarr = np.array([1, 2, 3])\n",
    "          if type(pltcontent) != type(dummyarr):\n",
    "              print pltcontent, \" is not a numpy array, will convert\"\n",
    "              pltcontent = pltcontent.array\n",
    "          \n",
    "         \n",
    "   \n",
    "          if (scaling == 'dk'):\n",
    "              vmin,vmax = np.percentile(pltcontent,[1,99])\n",
    "              vmax = max(abs(vmin),abs(vmax))\n",
    "              vmin = -vmax\n",
    "              pltimg = plt.imshow( pltcontent , origin=location, interpolation='none', vmin = vmin, vmax=vmax );\n",
    "          else:\n",
    "            pltimg = plt.imshow( pltcontent , origin=location, interpolation='none' );\n",
    " \n",
    "\n",
    "#          pltimg = plt.imshow( pltcontent , origin=location, interpolation='none', vmin = vmin, vmax=vmax );\n",
    "\n",
    "          # To correctly set the values of X and Y axes \n",
    "          ysize,xsize = pltcontent.shape\n",
    "          plt.xlim(qrtr*xsize,(1-qrtr)*xsize)\n",
    "          plt.ylim(qrtr*ysize,(1-qrtr)*ysize)\n",
    "          \n",
    "          if colorbarlimit==1:\n",
    "                    pltimg.set_clim(-1,1)\n",
    "          plt.colorbar()\n",
    "        \n",
    "          # Plotting the centers of each profile with a little circle\n",
    "          if (centre[0][0] !=0 and centre[1][0] !=0):\n",
    "                    if (verbose > 0):\n",
    "                        print \"---------------> Plotting centers\"\n",
    "                    plt.plot(centre[0][0], centre[0][1],  color='g', marker = 'o', markersize=mrkrsize, markeredgewidth=1)\n",
    "                    plt.plot(centre[1][0], centre[1][1],  color='y', marker = 'o', markersize=mrkrsize, markeredgewidth=1)\n",
    "          else:\n",
    "            if (verbose > 0):\n",
    "                print \"---------------> NOT Plotting centers\"\n",
    "                \n",
    "          plt.show()\n",
    "    # plt.annotate\n",
    "    \n",
    "\n",
    "#################################################### Function to make gal fig objects, and pass them back\n",
    "def passplot(pltname, pltcontent, inax, centre=(0,0) , colorbarlimit = 0, location = 'lower', mrkrsize = 10 ,\n",
    "             qrtr = 0.25, scaling =\"dk\", verbose = 0):\n",
    "        \n",
    "          # Quite similar structure to makeplot, so see above for more comments\n",
    "          # The difference is that this will make the plots in an array and without color bars\n",
    "\n",
    "          if (verbose > 0):\n",
    "                print \"In local pass plot\"\n",
    "          inax.set_title(pltname)\n",
    "          if (verbose > 0):\n",
    "                print \" >>>>>> Plotting \", pltname          \n",
    "          dummyarr = np.array([1, 2, 3])\n",
    "          if type(pltcontent) != type(dummyarr):\n",
    "              if (verbose > 0):\n",
    "                  print pltcontent, \" is not a numpy array, will convert\"\n",
    "              pltcontent = pltcontent.array\n",
    "          \n",
    "          if (scaling == 'dk'):\n",
    "              vmin,vmax = np.percentile(pltcontent,[1,99])\n",
    "              vmax = max(abs(vmin),abs(vmax))\n",
    "              vmin = -vmax\n",
    "              pltimg = inax.imshow( pltcontent , origin=location, interpolation='none', vmin = vmin, vmax=vmax );\n",
    "          else:\n",
    "              pltimg = inax.imshow( pltcontent , origin=location, interpolation='none' );\n",
    "          \n",
    "          ysize,xsize = pltcontent.shape\n",
    "        \n",
    "          inax.set_xlim(qrtr*xsize,(1-qrtr)*xsize)\n",
    "          inax.set_ylim(qrtr*ysize,(1-qrtr)*ysize)\n",
    "          '''\n",
    "          if colorbarlimit==1:\n",
    "                    pltimg.set_clim(-1,1)\n",
    "          inax.colorbar()\n",
    "          '''\n",
    "          if (centre[0][0] !=0 and centre[1][0] !=0):\n",
    "                    inax.plot(centre[0][0], centre[0][1],  color='g', marker = 'o', markersize=mrkrsize, markeredgewidth=1)\n",
    "                    inax.plot(centre[1][0], centre[1][1],  color='y', marker = 'o', markersize=mrkrsize, markeredgewidth=1)\n",
    "                 \n",
    "    # plt.annotate\n",
    "    "
   ]
  },
  {
   "cell_type": "code",
   "execution_count": 263,
   "metadata": {
    "collapsed": false
   },
   "outputs": [
    {
     "name": "stdout",
     "output_type": "stream",
     "text": [
      " \n",
      "\n",
      "\n",
      "  ************************* About to deblend with these centers: \n",
      " Arcsec: peaks_A =  [-1.  0.]\n",
      " Arcsec: peaks_B =  [ 1.  0.]\n",
      " Pixels: peaks_pix =  [[-5.0, 0.0], [5.0, 0.0]]\n",
      "center[0][0] =  45.0\n",
      "center[0][1] =  50.0\n",
      "center[1][0] =  55.0\n",
      "center[1][1] =  50.0\n",
      "-------> plotflag =  -1\n",
      "-------> presetval =  1\n",
      " ******************************* Peaks are at: \n",
      " In Arcsec: peaks_A =  [-1.  0.]\n",
      " In Arcsec: peaks_B =  [ 1.  0.]\n",
      "\n",
      " Pixels: peaks in pixels =  [[-5.0, 0.0], [5.0, 0.0]]\n",
      " \n",
      "\n",
      "\n",
      " ------------------------------------------------> Initzn Done\n"
     ]
    }
   ],
   "source": [
    "\n",
    "\n",
    "\n",
    "\n",
    "\n",
    "\n",
    "\n",
    "###################################################### Initze  &  Set sep\n",
    "\n",
    "###################################### Main flags\n",
    "\n",
    "# Parse command line args\n",
    "parser = ArgumentParser()\n",
    "parser.add_argument(\"--outfile\", default=\"deblendsOutput/deblendingTests\", help=\"output text filename\")\n",
    "parser.add_argument(\"--e1a\", default=0, type=float, help=\"e1a in\")\n",
    "parser.add_argument(\"--e2a\", default=0, type=float, help=\"e2a in\")\n",
    "parser.add_argument(\"--e1b\", default=0, type=float, help=\"e1b in\")\n",
    "parser.add_argument(\"--e2b\", default=0, type=float, help=\"e2b in\")\n",
    "parser.add_argument(\"--plotflag\", default=0, type=int, help=\"Set to 1 to make plots\")\n",
    "parser.add_argument(\"--centers\", default=1, type=int, help=\"Set to 1 to use exact centers, 2 to use centers from simfit\")\n",
    "\n",
    "args = parser.parse_args(\"\")  # In ipynb, this makes the args be all the default args as above\n",
    "\n",
    "########## Get ellips from \"cmd line\" here in ipynb\n",
    "e1ain = args.e1a ; e2ain = args.e2a\n",
    "e1bin = args.e1b ; e2bin = args.e2b\n",
    "\n",
    "plotflag = args.plotflag\n",
    "centers = args.centers\n",
    "\n",
    "##################################### Initze\n",
    "\n",
    "\n",
    "\n",
    "#### Level to do plotting at (setting it lower will plot more stuff)\n",
    "presetval = 1\n",
    "\n",
    "#### Whether to plot (setting it higher will plot more stuff)\n",
    "plotflag = -1\n",
    "\n",
    "## Color scheme\n",
    "plt.rcParams['image.cmap'] = 'seismic'\n",
    "\n",
    "## Print verbosity\n",
    "verbose = 2  # Zero is less, 1 is more, 2 is all\n",
    "\n",
    "########### Img params\n",
    "imsize = 101\n",
    "pixel_scale = 0.2\n",
    "\n",
    "########################## Set the peak locations\n",
    "\n",
    "# ************************************************************************ 4 arcsec sep\n",
    "# origpeak_a = (-2,0);   origpeak_b = (2,0)    \n",
    "# ************************************************************************ 2 arcsec sep\n",
    "xcent = 1.0\n",
    "origpeak_a = (-xcent,0);   origpeak_b = (xcent,0)    \n",
    "\n",
    "if centers == 1:\n",
    "    curpeak_a = origpeak_a ;   curpeak_b = origpeak_b\n",
    "\n",
    "\n",
    "#  Convert peaks_pix to pixels\n",
    "peaks_pix = [[p1/0.2 for p1 in curpeak_a],  # Div by 0.2 to convert back to pixels\n",
    "                         [p2/0.2 for p2 in curpeak_b]]\n",
    "\n",
    "if (verbose > 0):\n",
    "    print \" \\n\\n\\n  ************************* About to deblend with these centers: \"   \n",
    "    print \" Arcsec: peaks_A = \" , peak_a\n",
    "    print \" Arcsec: peaks_B = \" , peak_b\n",
    "    print \" Pixels: peaks_pix = \" ,  peaks_pix \n",
    "\n",
    "################################################################# Assign to actual peak variable\n",
    "peak_a =  np.array(curpeak_a) ; peak_b =  np.array(curpeak_b) \n",
    "\n",
    "########  Convert peaks_pix to pixels\n",
    "peaks_pix = [[p1/0.2 for p1 in peak_a],  # Div by 0.2 to convert back to pixels\n",
    "             [p2/0.2 for p2 in peak_b]]\n",
    "\n",
    "### Now do the actual deblending\n",
    "templates, template_fractions, children = mssg_deblend.deblend(blend.array, peaks_pix, \n",
    "                                                               interpolate=False, force_interpolate = False)\n",
    "\n",
    "##### These numbers are needed to plot points at center of imgs\n",
    "imgsize = imsize\n",
    "pixelscale = pixel_scale \n",
    "imgcent = imgsize/2\n",
    "acent = (imgcent+peak_a[0]/pixelscale, imgcent+peak_a[1]/pixelscale)\n",
    "bcent = (imgcent+peak_b[0]/pixelscale, imgcent+peak_b[1]/pixelscale)\n",
    "\n",
    "### The center var that will be plotted on the figs\n",
    "center= (acent,bcent)\n",
    "\n",
    "if (verbose > 0):\n",
    "    print \"center[0][0] = \",center[0][0]\n",
    "    print \"center[0][1] = \",center[0][1]\n",
    "    print \"center[1][0] = \",center[1][0]\n",
    "    print \"center[1][1] = \",center[1][1] \n",
    "\n",
    "print \"-------> plotflag = \", plotflag\n",
    "print \"-------> presetval = \", presetval\n",
    "\n",
    "\n",
    "if (verbose > 0):\n",
    "    print \" ******************************* Peaks are at: \"\n",
    "    print \" In Arcsec: peaks_A = \" , peak_a\n",
    "    print \" In Arcsec: peaks_B = \" , peak_b\n",
    "\n",
    "    print \"\\n Pixels: peaks in pixels = \" ,  peaks_pix\n",
    "\n",
    "\n",
    "print \" \\n\\n\\n ------------------------------------------------> Initzn Done\"\n",
    "    "
   ]
  },
  {
   "cell_type": "code",
   "execution_count": 264,
   "metadata": {
    "collapsed": false
   },
   "outputs": [
    {
     "name": "stdout",
     "output_type": "stream",
     "text": [
      "********* Making Sersic profile deVauc gals\n",
      "********* Making Sersic profile deVauc gals\n",
      "********* Making Sersic profile deVauc gals\n",
      "********* Making Sersic profile deVauc gals\n",
      "********* Making Sersic profile deVauc gals\n",
      "********* Making Sersic profile deVauc gals\n"
     ]
    },
    {
     "data": {
      "image/png": "[encoded data removed]",
      "text/plain": [
       "<matplotlib.figure.Figure at 0x10cff6b50>"
      ]
     },
     "metadata": {},
     "output_type": "display_data"
    }
   ],
   "source": [
    "\n",
    "\n",
    "##################  Plot the orig figs ---- using makeplot  (i.e. with colorbars)\n",
    "\n",
    "fig = plt.figure(figsize = (15,10))\n",
    "localgaltype = 'Sd'\n",
    "\n",
    "#### Input vals\n",
    "e1ain = 0; e2ain = 0\n",
    "e1bin = 0; e2bin = 0\n",
    "\n",
    "for size_bTOa in [1.0, 1.5]:    \n",
    "  for flux_bTOa in [1.0, 0.5,0.2]:\n",
    "    blend, unblends = create_blend(peak_a, peak_b, flux_bTOa =  flux_bTOa , size_bTOa = size_bTOa , e1a = e1ain,                                 \n",
    "                               galtype = localgaltype , e2a = e2ain, e1b = e1bin ,e2b = e2bin, imgsize= imsize, \n",
    "                               pixelscale = pixel_scale, mrkrsize = 10, psetval = 2, plotflag =  plotflag)\n",
    "    pltcontent = blend.array\n",
    "    ax = fig.add_subplot(231)\n",
    "    pltname = \"Flux b/a = \"+str(flux_bTOa) + \", Size b/a = \"+str(size_bTOa)\n",
    "#    center = (peak_a, peak_b)\n",
    "\n",
    "    if (plotflag > -1):\n",
    "        makeplot(pltname, pltcontent,  centre=center, scaling = 'nondk')\n",
    "\n",
    "\n"
   ]
  },
  {
   "cell_type": "code",
   "execution_count": 265,
   "metadata": {
    "collapsed": false
   },
   "outputs": [
    {
     "name": "stdout",
     "output_type": "stream",
     "text": [
      "------------------> Peakval =  1\n",
      "--------------> In local createblend\n",
      "*********** Making Gaussian gals\n",
      "peak_a[0] =  -1.0\n",
      "imgcent =  50\n",
      "--------------> In local createblend\n",
      "*********** Making Gaussian gals\n",
      "peak_a[0] =  -1.0\n",
      "imgcent =  50\n",
      "--------------> In local createblend\n",
      "*********** Making Gaussian gals\n",
      "peak_a[0] =  -1.0\n",
      "imgcent =  50\n",
      "--------------> In local createblend\n",
      "*********** Making Gaussian gals\n",
      "peak_a[0] =  -1.0\n",
      "imgcent =  50\n",
      "--------------> In local createblend\n",
      "*********** Making Gaussian gals\n",
      "peak_a[0] =  -1.0\n",
      "imgcent =  50\n",
      "--------------> In local createblend\n",
      "*********** Making Gaussian gals\n",
      "peak_a[0] =  -1.0\n",
      "imgcent =  50\n"
     ]
    }
   ],
   "source": [
    "############################################### Plot the resid figs -- with makeplot\n",
    "\n",
    "localgaltype = 'G'\n",
    "peakval =1 \n",
    "e1ain = 0\n",
    "e2ain = 0\n",
    "\n",
    "e1bin = 0\n",
    "e2bin = 0\n",
    "\n",
    "if (verbose > 0):\n",
    "    print \"------------------> Peakval = \", peakval\n",
    "\n",
    "flux_bTOa = 1\n",
    "size_bTOa = 1\n",
    "\n",
    "for size_bTOa in [1.0, 1.5]:    \n",
    "  for flux_bTOa in [1.0, 0.5,0.2]:\n",
    "    \n",
    "    blend, unblends = create_blend(peak_a, peak_b, flux_bTOa =  flux_bTOa , size_bTOa = size_bTOa , e1a = e1ain,  e2a = e2ain, \n",
    "                               e1b = e1bin ,e2b = e2bin, imgsize= imsize, pixelscale = pixel_scale, mrkrsize = 10,\n",
    "                               galtype= localgaltype, verbose = verbose, plotflag =  plotflag)\n",
    "    templates, template_fractions, children = mssg_deblend.deblend(blend.array, peaks_pix, interpolate=False, force_interpolate = False)\n",
    "    pltcontent = (children[0] - unblends[0].array)/  peakval\n",
    "    pltname = \"Flux b/a = \"+str(flux_bTOa) + \", Size b/a = \"+str(size_bTOa)\n",
    "    if (plotflag > -1):\n",
    "        makeplot(pltname, pltcontent,  centre=center,verbose = verbose, scaling='dk')\n",
    "\n"
   ]
  },
  {
   "cell_type": "code",
   "execution_count": 266,
   "metadata": {
    "collapsed": false
   },
   "outputs": [
    {
     "name": "stdout",
     "output_type": "stream",
     "text": [
      "*********** Making Gaussian gals\n",
      "********* Making Sersic profile expl gals\n",
      "********* Making Sersic profile deVauc gals\n",
      "*********** Making Gaussian gals\n",
      "********* Making Sersic profile expl gals\n",
      "********* Making Sersic profile deVauc gals\n",
      "*********** Making Gaussian gals\n",
      "********* Making Sersic profile expl gals\n",
      "********* Making Sersic profile deVauc gals\n",
      "*********** Making Gaussian gals\n",
      "********* Making Sersic profile expl gals\n",
      "********* Making Sersic profile deVauc gals\n",
      "*********** Making Gaussian gals\n",
      "********* Making Sersic profile expl gals\n",
      "********* Making Sersic profile deVauc gals\n",
      "*********** Making Gaussian gals\n",
      "********* Making Sersic profile expl gals\n",
      "********* Making Sersic profile deVauc gals\n"
     ]
    },
    {
     "data": {
      "image/png": "[encoded data removed]",
      "text/plain": [
       "<matplotlib.figure.Figure at 0x10d551950>"
      ]
     },
     "metadata": {},
     "output_type": "display_data"
    }
   ],
   "source": [
    "############################################### Plot the resid figs -- compare G, Se, Sb\n",
    "\n",
    "fig = plt.figure(figsize = (15,10))\n",
    "\n",
    "##################  Loop over all possibilities, plot the resids\n",
    "\n",
    "for size_bTOa in [1.0, 1.5]:    \n",
    "  for flux_bTOa in [1.0, 0.5,0.2]:\n",
    "\n",
    "    for galtype in ['G', 'Se', 'Sd']:\n",
    "        blend, unblends = create_blend(peak_a, peak_b, galtype = galtype , flux_bTOa =  flux_bTOa , size_bTOa = size_bTOa , \n",
    "                               e1a = e1ain,  e2a = e2ain, e1b = e1bin ,e2b = e2bin, imgsize= imsize, \n",
    "                                       pixelscale = pixel_scale, mrkrsize = 10, plotflag =  plotflag)\n",
    "        templates, template_fractions, children = mssg_deblend.deblend(blend.array, peaks_pix, interpolate=False, force_interpolate = False)\n",
    "        pltcontent = (children[0] - unblends[0].array)/  peakval ; ax = fig.add_subplot(231) ; pltname = \"Flux b/a = \"+str(flux_bTOa) + \", Size b/a = \"+str(size_bTOa)\n",
    "        if (plotflag > -1):\n",
    "           makeplot(pltname, pltcontent, centre=center, verbose = verbose, scaling = 'dk')\n"
   ]
  },
  {
   "cell_type": "code",
   "execution_count": null,
   "metadata": {
    "collapsed": true
   },
   "outputs": [],
   "source": []
  },
  {
   "cell_type": "code",
   "execution_count": 267,
   "metadata": {
    "collapsed": false
   },
   "outputs": [
    {
     "ename": "IndentationError",
     "evalue": "unindent does not match any outer indentation level (<ipython-input-267-c694d69e0554>, line 21)",
     "output_type": "error",
     "traceback": [
      "\u001b[0;36m  File \u001b[0;32m\"<ipython-input-267-c694d69e0554>\"\u001b[0;36m, line \u001b[0;32m21\u001b[0m\n\u001b[0;31m    if (plotflag > -1):\u001b[0m\n\u001b[0m                       ^\u001b[0m\n\u001b[0;31mIndentationError\u001b[0m\u001b[0;31m:\u001b[0m unindent does not match any outer indentation level\n"
     ]
    }
   ],
   "source": [
    "################## Old test code: Create the blended obj  \n",
    "\n",
    "blend, unblends = create_blend(peak_a, peak_b, e1a = e1ain,  e2a = e2ain, e1b = e1bin ,e2b = e2bin, imgsize= imsize, \n",
    "                               pixelscale = pixel_scale, mrkrsize = 10, \n",
    "                               psetval = 1, galtype='G', verbose = verbose, plotflag =  plotflag)\n",
    "    \n",
    "\n",
    "if plotflag > presetval:\n",
    "    plt.title(\" Sanity check: Img blended obj - (a+b) \")\n",
    "    if (verbose > 0):\n",
    "        print \" >>>>>> Plotting blend.array - (unblends[0].array + unblends[1].array)  \"\n",
    "    plt.imshow( blend.array - (unblends[0].array + unblends[1].array) , origin='lower',  interpolation='none' );    \n",
    "    plt.colorbar()\n",
    "    plt.show()\n",
    "\n",
    "\n",
    "########## Plot template\n",
    "if plotflag > presetval:\n",
    "    pltname = \" Template obj a \"\n",
    "    pltcontent = template_fractions[0] \n",
    "   if (plotflag > -1):\n",
    "        makeplot(pltname, pltcontent, centre=center)\n",
    "\n",
    "######### Plot children\n",
    "    ### Obj a\n",
    "  \n",
    "    peakval = unblends[0].array[acent[0], acent[1]]\n",
    "    if (verbose > 0):\n",
    "        print \" peakval = \", peakval\n",
    " \n",
    "if plotflag > presetval-2:\n",
    "    if (verbose > 0):\n",
    "        print \"Plotting resid\"\n",
    "    pltname = \" Resid of: (Deblended child a - Unblended img a) \";        # If we want to Nze: / peak val of a \n",
    "    peakval = unblends[0].array[acent[0], acent[1]]\n",
    "    pltcontent = (children[0] - unblends[0].array)\n",
    "\n",
    "    if (plotflag > -1):\n",
    "        makeplot(pltname, pltcontent, centre=center)\n",
    ";"
   ]
  },
  {
   "cell_type": "code",
   "execution_count": null,
   "metadata": {
    "collapsed": false
   },
   "outputs": [],
   "source": []
  },
  {
   "cell_type": "code",
   "execution_count": null,
   "metadata": {
    "collapsed": false
   },
   "outputs": [],
   "source": [
    "\n"
   ]
  },
  {
   "cell_type": "code",
   "execution_count": null,
   "metadata": {
    "collapsed": true
   },
   "outputs": [],
   "source": []
  },
  {
   "cell_type": "code",
   "execution_count": null,
   "metadata": {
    "collapsed": false
   },
   "outputs": [],
   "source": [
    "\n"
   ]
  },
  {
   "cell_type": "code",
   "execution_count": null,
   "metadata": {
    "collapsed": false
   },
   "outputs": [],
   "source": []
  },
  {
   "cell_type": "code",
   "execution_count": 269,
   "metadata": {
    "collapsed": false
   },
   "outputs": [
    {
     "name": "stdout",
     "output_type": "stream",
     "text": [
      "*********** Making Gaussian gals\n",
      "*********** Making Gaussian gals\n",
      "*********** Making Gaussian gals\n",
      "*********** Making Gaussian gals\n",
      "*********** Making Gaussian gals\n",
      "*********** Making Gaussian gals\n"
     ]
    },
    {
     "data": {
      "text/plain": [
       "'    \\nax = fig.add_subplot(231)\\npltname = \"Flux b/a = \"+str(flux_bTOa) + \", Size b/a = \"+str(size_bTOa)\\npassplot(pltname, pltcontent, ax, centre=center, scaling = \\'nondk\\')\\n\\n\\nflux_bTOa = 0.5\\nsize_bTOa = 1\\nblend, unblends = create_blend(peak_a, peak_b, flux_bTOa =  flux_bTOa , size_bTOa = size_bTOa, e1a = e1ain,  \\n                               galtype = localgaltype , e2a = e2ain, e1b = e1bin ,e2b = e2bin, imgsize= imsize, pixelscale = pixel_scale, mrkrsize = 10)\\npltcontent = blend.array\\nax = fig.add_subplot(232)\\npltname = \"Flux b/a = \"+str(flux_bTOa) + \", Size b/a = \"+str(size_bTOa)\\npassplot(pltname, pltcontent, ax, centre=center , scaling = \\'nondk\\')\\n'"
      ]
     },
     "execution_count": 269,
     "metadata": {},
     "output_type": "execute_result"
    },
    {
     "data": {
      "image/png": "[encoded data removed]",
      "text/plain": [
       "<matplotlib.figure.Figure at 0x10d4fd310>"
      ]
     },
     "metadata": {},
     "output_type": "display_data"
    }
   ],
   "source": [
    "\n",
    "##################  Not currently using this, and it's not fully written out, either (1/17/2016)\n",
    "\n",
    "\n",
    "######## Plot the orig figs ---- passplot  -- using arrays\n",
    "\n",
    "fig = plt.figure(figsize = (15,10))\n",
    "\n",
    "#### Input vals\n",
    "localgaltype = 'G'\n",
    "\n",
    "e1ain = 0\n",
    "e2ain = 0\n",
    "\n",
    "e1bin = 0\n",
    "e2bin = 0\n",
    "\n",
    "flux_bTOa = 1\n",
    "size_bTOa = 1\n",
    "\n",
    "for wplot in range(1,7):    \n",
    "\n",
    "    if (wplot == 1): \n",
    "        flux_bTOa = 1 ; \n",
    "        size_bTOa = 1 ; \n",
    "        ax = fig.add_subplot(231)\n",
    "    if (wplot == 2): \n",
    "        flux_bTOa = 0.5 ; \n",
    "        size_bTOa = 1 ; \n",
    "        ax = fig.add_subplot(232)\n",
    "\n",
    "    blend, unblends = create_blend(peak_a, peak_b, flux_bTOa =  flux_bTOa , size_bTOa = size_bTOa , e1a = e1ain,  \n",
    "                                   galtype = localgaltype, e2a = e2ain, e1b = e1bin ,e2b = e2bin, \n",
    "                                   imgsize= imsize, pixelscale = pixel_scale, mrkrsize = 10, psetval = 2, plotflag=plotflag)\n",
    "    pltcontent = blend.array\n",
    "    pltname = \"Flux b/a = \"+str(flux_bTOa) + \", Size b/a = \"+str(size_bTOa)\n",
    "#    passplot(pltname, pltcontent, ax, centre=center, scaling = 'nondk')\n",
    "\n",
    "'''    \n",
    "ax = fig.add_subplot(231)\n",
    "pltname = \"Flux b/a = \"+str(flux_bTOa) + \", Size b/a = \"+str(size_bTOa)\n",
    "passplot(pltname, pltcontent, ax, centre=center, scaling = 'nondk')\n",
    "\n",
    "\n",
    "flux_bTOa = 0.5\n",
    "size_bTOa = 1\n",
    "blend, unblends = create_blend(peak_a, peak_b, flux_bTOa =  flux_bTOa , size_bTOa = size_bTOa, e1a = e1ain,  \n",
    "                               galtype = localgaltype , e2a = e2ain, e1b = e1bin ,e2b = e2bin, imgsize= imsize, pixelscale = pixel_scale, mrkrsize = 10)\n",
    "pltcontent = blend.array\n",
    "ax = fig.add_subplot(232)\n",
    "pltname = \"Flux b/a = \"+str(flux_bTOa) + \", Size b/a = \"+str(size_bTOa)\n",
    "passplot(pltname, pltcontent, ax, centre=center , scaling = 'nondk')\n",
    "'''"
   ]
  },
  {
   "cell_type": "code",
   "execution_count": 140,
   "metadata": {
    "collapsed": false
   },
   "outputs": [
    {
     "name": "stdout",
     "output_type": "stream",
     "text": [
      "1\n",
      "2\n",
      "3\n",
      "4\n",
      "5\n",
      "6\n"
     ]
    }
   ],
   "source": [
    "    "
   ]
  },
  {
   "cell_type": "code",
   "execution_count": null,
   "metadata": {
    "collapsed": false
   },
   "outputs": [],
   "source": []
  },
  {
   "cell_type": "code",
   "execution_count": null,
   "metadata": {
    "collapsed": false
   },
   "outputs": [],
   "source": []
  },
  {
   "cell_type": "code",
   "execution_count": null,
   "metadata": {
    "collapsed": false
   },
   "outputs": [],
   "source": []
  },
  {
   "cell_type": "code",
   "execution_count": null,
   "metadata": {
    "collapsed": false
   },
   "outputs": [],
   "source": []
  },
  {
   "cell_type": "code",
   "execution_count": null,
   "metadata": {
    "collapsed": false
   },
   "outputs": [],
   "source": []
  },
  {
   "cell_type": "code",
   "execution_count": null,
   "metadata": {
    "collapsed": true
   },
   "outputs": [],
   "source": []
  },
  {
   "cell_type": "code",
   "execution_count": null,
   "metadata": {
    "collapsed": true
   },
   "outputs": [],
   "source": []
  },
  {
   "cell_type": "code",
   "execution_count": null,
   "metadata": {
    "collapsed": true
   },
   "outputs": [],
   "source": []
  },
  {
   "cell_type": "code",
   "execution_count": null,
   "metadata": {
    "collapsed": true
   },
   "outputs": [],
   "source": []
  },
  {
   "cell_type": "code",
   "execution_count": null,
   "metadata": {
    "collapsed": true
   },
   "outputs": [],
   "source": []
  }
 ],
 "metadata": {
  "kernelspec": {
   "display_name": "Python 2",
   "language": "python",
   "name": "python2"
  },
  "language_info": {
   "codemirror_mode": {
    "name": "ipython",
    "version": 2
   },
   "file_extension": ".py",
   "mimetype": "text/x-python",
   "name": "python",
   "nbconvert_exporter": "python",
   "pygments_lexer": "ipython2",
   "version": "2.7.10"
  }
 },
 "nbformat": 4,
 "nbformat_minor": 0
}
