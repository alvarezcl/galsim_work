{
 "cells": [
  {
   "cell_type": "code",
   "execution_count": null,
   "metadata": {
    "collapsed": true
   },
   "outputs": [],
   "source": []
  },
  {
   "cell_type": "code",
   "execution_count": 2,
   "metadata": {
    "collapsed": false
   },
   "outputs": [
    {
     "name": "stdout",
     "output_type": "stream",
     "text": [
      "Populating the interactive namespace from numpy and matplotlib\n"
     ]
    },
    {
     "name": "stderr",
     "output_type": "stream",
     "text": [
      "WARNING: pylab import has clobbered these variables: ['random']\n",
      "`%matplotlib` prevents importing * from pylab and numpy\n"
     ]
    }
   ],
   "source": [
    "# MSSG, based on JEM and LCA code\n",
    "# NB version, Start: 12/2015\n",
    "\n",
    "%pylab inline\n",
    "\n",
    "### Generic imports\n",
    "import lmfit\n",
    "import ipdb\n",
    "import sys\n",
    "import random\n",
    "#import triangle\n",
    "from argparse import ArgumentParser\n",
    "#import matplotlib.pyplot as plt\n",
    "#import numpy as np\n",
    "\n",
    "### Specific imports\n",
    "import galsim\n",
    "import mssg_deblend\n",
    "import mssg_drawLibrary\n",
    "from mssg_makeplot import *\n",
    "from mssg_create_blend import *"
   ]
  },
  {
   "cell_type": "code",
   "execution_count": 3,
   "metadata": {
    "collapsed": true
   },
   "outputs": [],
   "source": [
    "\n",
    "###################################################### Function to create the blended img\n",
    "def create_blend(peak_a, peak_b, e1a = 0, e1b = 0 , e2a = 0, e2b = 0, imgsize = 0, pixelscale = 0, mrkrsize = 10):\n",
    "\n",
    "    # Global vars\n",
    "    randnum=galsim.BaseDeviate(1) # Random num seed -- when set to zero, uses machine time\n",
    "\n",
    "    #### Level to do printing at (setting it lower will print more stuff)\n",
    "    presetval = 0\n",
    "    #    plotflag =  0  # The default, to plot the minimum\n",
    "    plotflag =  1  # Print more\n",
    "    \n",
    "    # Create gaussian gal objs, sheared in various directions\n",
    "    hlr_a = 1.0\n",
    "    hlr_b = hlr_a * 1.5\n",
    "\n",
    "    flux_a = 1e7\n",
    "    flux_b = flux_a /2\n",
    "    \n",
    "    gal1 = galsim.Gaussian(half_light_radius= hlr_a , flux= flux_a).shear(g1=e1a, g2= e2a).shift(peak_a)\n",
    "    gal2 = galsim.Gaussian(half_light_radius= hlr_b , flux= flux_b ).shear(g1=e1b, g2= e2b).shift(peak_b)\n",
    "    \n",
    "    # Add psf \n",
    "    psfshr = 0.00\n",
    "    psf = galsim.Moffat(beta=3, fwhm=0.85).shear(e1 = psfshr,  e2 = -psfshr)\n",
    "\n",
    "    convgal1 = galsim.Convolve([gal1,psf])\n",
    "    convgal2 = galsim.Convolve([gal2,psf])\n",
    "    \n",
    "    # Now make imgs\n",
    "#    imgsize = 49\n",
    "#    pixelscale = 0.2\n",
    "    imgcent = imgsize/2\n",
    "\n",
    "    print \"peak_a[0] = \", peak_a[0]\n",
    "    print 'imgcent = ', imgcent\n",
    "    acent = (imgcent+peak_a[0]/pixelscale, imgcent+peak_a[1]/pixelscale)\n",
    "    bcent = (imgcent+peak_b[0]/pixelscale, imgcent+peak_b[1]/pixelscale)\n",
    "\n",
    "    # Img1\n",
    "    proto_image = galsim.ImageD(imgsize, imgsize, scale = pixelscale)\n",
    "#    image1 = convgal1.drawImage(image=proto_image, method='phot', rng=randnum)\n",
    "    image1 = convgal1.drawImage(image=proto_image)\n",
    "    print '************** About to show plots with flux a = ', flux_a , ', flux_b = ', flux_b\n",
    "#    print image1.array[np.where(image1.array < 0)] \n",
    "#    image1.array[np.where(image1.array < 0)] = 0.\n",
    "    if plotflag > presetval:\n",
    "        plt.title(\" FIRST PLOT:  Img obj a\")\n",
    "        plt.imshow( image1.array , origin='lower', interpolation='none' );    \n",
    "        plt.colorbar()\n",
    "        plt.plot( acent[0], acent[1], color='g', marker = 'o', markersize=mrkrsize, markeredgewidth=1)\n",
    "        plt.show()\n",
    "        print \" >>>>>> Plotting img obj a\"\n",
    "        print \" image1.array.sum() \" , image1.array.sum()\n",
    "\n",
    "    # Img2\n",
    "    proto_image = galsim.ImageD(imgsize, imgsize, scale = pixelscale)\n",
    "#    image2 = convgal2.drawImage(image=proto_image, method='phot', rng=randnum)\n",
    "    image2 = convgal2.drawImage(image=proto_image)\n",
    "    image2.array[np.where(image2.array < 0)] = 0.    \n",
    "    if plotflag > presetval: \n",
    "        plt.title(\" Img obj b\")\n",
    "        print \" >>>>>> Plotting img obj b\"\n",
    "        plt.imshow( image2.array , origin='lower',  interpolation='none' );    \n",
    "        plt.colorbar()\n",
    "        plt.plot(bcent[0], bcent[1],  color='y', marker = 'o', markersize=mrkrsize, markeredgewidth=1)\n",
    "        plt.show()\n",
    "\n",
    "### Add them into one image\n",
    "    imagesum =  image1+image2\n",
    "\n",
    "    if plotflag > presetval:\n",
    "        plt.title(\" Img obj a + b\")\n",
    "        print \" >>>>>> Plotting imgsum\"\n",
    "        plt.plot( acent[0], acent[1], color='g', marker = 'o', markersize=mrkrsize, markeredgewidth=1)\n",
    "        plt.plot(bcent[0], bcent[1],  color='y', marker = 'o', markersize=mrkrsize, markeredgewidth=1)\n",
    "        \n",
    "        plt.imshow( imagesum.array , origin='lower',  interpolation='none' );    \n",
    "        plt.colorbar()\n",
    "        plt.show()\n",
    "\n",
    "        \n",
    "    return imagesum, [image1, image2]\n"
   ]
  },
  {
   "cell_type": "code",
   "execution_count": 13,
   "metadata": {
    "collapsed": true
   },
   "outputs": [],
   "source": [
    "#################################################### Function to draw gal figs\n",
    "def makeplot(pltname, pltcontent, centre=(0,0) , colorbarlimit = 0, location = 'lower', mrkrsize = 10 ,qrtr = 0.25):\n",
    "\n",
    "\n",
    "          plt.title(pltname)\n",
    "          print \" >>>>>> Plotting \", pltname          \n",
    "          dummyarr = np.array([1, 2, 3])\n",
    "          if type(pltcontent) != type(dummyarr):\n",
    "              print pltcontent, \" is not a numpy array, will convert\"\n",
    "              pltcontent = pltcontent.array\n",
    "          \n",
    "          vmin,vmax = np.percentile(pltcontent,[1,99])\n",
    "          vmax = max(abs(vmin),abs(vmax))\n",
    "          vmin = -vmax\n",
    "        \n",
    "          ysize,xsize = pltcontent.shape\n",
    "        \n",
    "          pltimg = plt.imshow( pltcontent , origin=location, interpolation='none', vmin = vmin, vmax=vmax );\n",
    "          plt.xlim(qrtr*xsize,(1-qrtr)*xsize)\n",
    "          plt.ylim(qrtr*ysize,(1-qrtr)*ysize)\n",
    "          \n",
    "          if colorbarlimit==1:\n",
    "                    pltimg.set_clim(-1,1)\n",
    "          plt.colorbar()\n",
    "          if (centre[0] !=0 and centre[1] !=0):\n",
    "                    plt.plot(centre[0][0], centre[0][1],  color='g', marker = 'o', markersize=mrkrsize, markeredgewidth=1)\n",
    "                    plt.plot(centre[1][0], centre[1][1],  color='y', marker = 'o', markersize=mrkrsize, markeredgewidth=1)\n",
    "                \n",
    "          plt.show()\n",
    "    # plt.annotate\n",
    "    "
   ]
  },
  {
   "cell_type": "code",
   "execution_count": 14,
   "metadata": {
    "collapsed": false
   },
   "outputs": [
    {
     "name": "stdout",
     "output_type": "stream",
     "text": [
      " ******************************* Peaks are at: \n",
      " In Arcsec: peaks_A =  [-1  0]\n",
      " In Arcsec: peaks_B =  [1 0]\n",
      "\n",
      " Pixels: peaks in pixels =  [[-5.0, 0.0], [5.0, 0.0]]\n",
      "peak_a[0] =  -1\n",
      "imgcent =  50\n",
      "************** About to show plots with flux a =  10000000.0 , flux_b =  5000000.0\n"
     ]
    },
    {
     "data": {
      "image/png": "[encoded data removed]",
      "text/plain": [
       "<matplotlib.figure.Figure at 0x10c604c10>"
      ]
     },
     "metadata": {},
     "output_type": "display_data"
    },
    {
     "name": "stdout",
     "output_type": "stream",
     "text": [
      " >>>>>> Plotting img obj a\n",
      " image1.array.sum()  9999687.1834\n",
      " >>>>>> Plotting img obj b\n"
     ]
    },
    {
     "data": {
      "image/png": "[encoded data removed]",
      "text/plain": [
       "<matplotlib.figure.Figure at 0x10d8b95d0>"
      ]
     },
     "metadata": {},
     "output_type": "display_data"
    },
    {
     "name": "stdout",
     "output_type": "stream",
     "text": [
      " >>>>>> Plotting imgsum\n"
     ]
    },
    {
     "data": {
      "image/png": "[encoded data removed]",
      "text/plain": [
       "<matplotlib.figure.Figure at 0x10c62b590>"
      ]
     },
     "metadata": {},
     "output_type": "display_data"
    }
   ],
   "source": [
    "################### Initze\n",
    "\n",
    "#### Level to do printing at (setting it lower will print more stuff)\n",
    "presetval = 0\n",
    "\n",
    "plt.rcParams['image.cmap'] = 'seismic'\n",
    "\n",
    "\n",
    "#################### Drawgal used to be here\n",
    "\n",
    "\n",
    "############################################################################# Main\n",
    "\n",
    "# Parse command line args\n",
    "parser = ArgumentParser()\n",
    "parser.add_argument(\"--outfile\", default=\"deblendsOutput/deblendingTests\", help=\"output text filename\")\n",
    "parser.add_argument(\"--e1a\", default=0, type=float, help=\"e1a in\")\n",
    "parser.add_argument(\"--e2a\", default=0, type=float, help=\"e2a in\")\n",
    "parser.add_argument(\"--e1b\", default=0, type=float, help=\"e1b in\")\n",
    "parser.add_argument(\"--e2b\", default=0, type=float, help=\"e2b in\")\n",
    "parser.add_argument(\"--plotflag\", default=0, type=int, help=\"Set to 1 to make plots\")\n",
    "parser.add_argument(\"--centers\", default=1, type=int, help=\"Set to 1 to use exact centers, 2 to use centers from simfit\")\n",
    "\n",
    "args = parser.parse_args(\"\")\n",
    "\n",
    "########## Get ellips from cmd line\n",
    "e1ain = args.e1a\n",
    "e2ain = args.e2a\n",
    "\n",
    "e1bin = args.e1b\n",
    "e2bin = args.e2b\n",
    "\n",
    "plotflag = args.plotflag\n",
    "\n",
    "centers = args.centers\n",
    "\n",
    "# ************************************************************************ 4 arcsec sep\n",
    "# origpeak_a = (-2,0);   origpeak_b = (2,0)    \n",
    "\n",
    "# ************************************************************************ 2 arcsec sep\n",
    "origpeak_a = (-1,0);   origpeak_b = (1,0)    \n",
    "\n",
    "################### Initze\n",
    "fitdat = []\n",
    "\n",
    "peak_a =  np.array(origpeak_a) ; peak_b =  np.array(origpeak_b) \n",
    "# print \" \\n\\n\\n peak_a = \",  peak_a \n",
    "\n",
    "########  Convert peaks_pix to pixels\n",
    "peaks_pix = [[p1/0.2 for p1 in peak_a],  # Div by 0.2 to convert back to pixels\n",
    "             [p2/0.2 for p2 in peak_b]]\n",
    "\n",
    "print \" ******************************* Peaks are at: \"\n",
    "print \" In Arcsec: peaks_A = \" , peak_a\n",
    "print \" In Arcsec: peaks_B = \" , peak_b\n",
    "\n",
    "print \"\\n Pixels: peaks in pixels = \" ,  peaks_pix\n",
    "\n",
    "# print \" Pixels: peaks_pix[0] = \" ,  peaks_pix[0][0] \n",
    "\n",
    "########### Img params\n",
    "imsize = 101\n",
    "pixel_scale = 0.2\n",
    "\n",
    "################## Create the blended obj    \n",
    "blend, unblends = create_blend(peak_a, peak_b, e1a = e1ain,  e2a = e2ain, e1b = e1bin ,e2b = e2bin, imgsize= imsize, pixelscale = pixel_scale, mrkrsize = 10)\n",
    "\n",
    "if plotflag > presetval:\n",
    "    plt.title(\" Sanity check: Img blended obj - (a+b) \")\n",
    "    print \" >>>>>> Plotting blend.array - (unblends[0].array + unblends[1].array)  \"\n",
    "    plt.imshow( blend.array - (unblends[0].array + unblends[1].array) , origin='lower',  interpolation='none' );    \n",
    "    plt.colorbar()\n",
    "    plt.show()"
   ]
  },
  {
   "cell_type": "code",
   "execution_count": 15,
   "metadata": {
    "collapsed": false
   },
   "outputs": [
    {
     "name": "stdout",
     "output_type": "stream",
     "text": [
      " \n",
      "\n",
      "\n",
      "  ************************* About to deblend with these centers: \n",
      " Arcsec: peaks_A =  [-1  0]\n",
      " Arcsec: peaks_B =  [1 0]\n",
      " Pixels: peaks_pix =  [[-5.0, 0.0], [5.0, 0.0]]\n",
      "center[0][0] =  45.0\n",
      "center[0][1] =  50.0\n",
      "center[1][0] =  55.0\n",
      "center[1][1] =  50.0\n",
      " >>>>>> Plotting   Resid of: (Deblended child a - Unblended img a) / peak val of a \n"
     ]
    },
    {
     "data": {
      "image/png": "[encoded data removed]",
      "text/plain": [
       "<matplotlib.figure.Figure at 0x10dc02d90>"
      ]
     },
     "metadata": {},
     "output_type": "display_data"
    },
    {
     "data": {
      "text/plain": [
       "''"
      ]
     },
     "execution_count": 15,
     "metadata": {},
     "output_type": "execute_result"
    }
   ],
   "source": [
    "\n",
    "########################## Using actual known peaks, to compare\n",
    "if centers == 1:\n",
    "    curpeak_a = origpeak_a ;   curpeak_b = origpeak_b\n",
    "\n",
    "#    ipdb.set_trace()\n",
    "\n",
    "#  Convert peaks_pix to pixels\n",
    "peaks_pix = [[p1/0.2 for p1 in curpeak_a],  # Div by 0.2 to convert back to pixels\n",
    "                         [p2/0.2 for p2 in curpeak_b]]\n",
    "\n",
    "print \" \\n\\n\\n  ************************* About to deblend with these centers: \"   \n",
    "print \" Arcsec: peaks_A = \" , peak_a\n",
    "print \" Arcsec: peaks_B = \" , peak_b\n",
    "print \" Pixels: peaks_pix = \" ,  peaks_pix \n",
    "\n",
    "################################################################# Assign to actual peak variable\n",
    "peak_a =  np.array(curpeak_a) ; peak_b =  np.array(curpeak_b) \n",
    "peaks_pix = [[p1/0.2 for p1 in peak_a],  # Div by 0.2 to convert back to pixels\n",
    "                         [p2/0.2 for p2 in peak_b]]\n",
    "\n",
    "templates, template_fractions, children = mssg_deblend.deblend(blend.array, peaks_pix, interpolate=False, force_interpolate = False)\n",
    "\n",
    "##### Needed to plot points at center of imgs\n",
    "imgsize = imsize\n",
    "pixelscale = pixel_scale \n",
    "imgcent = imgsize/2\n",
    "acent = (imgcent+peak_a[0]/pixelscale, imgcent+peak_a[1]/pixelscale)\n",
    "bcent = (imgcent+peak_b[0]/pixelscale, imgcent+peak_b[1]/pixelscale)\n",
    "\n",
    "center= (acent,bcent)\n",
    "print \"center[0][0] = \",center[0][0]\n",
    "print \"center[0][1] = \",center[0][1]\n",
    "print \"center[1][0] = \",center[1][0]\n",
    "print \"center[1][1] = \",center[1][1] \n",
    "\n",
    "########## Plot template\n",
    "if plotflag > presetval-1:\n",
    "    pltname = \" Template obj a \"\n",
    "    pltcontent = template_fractions[0] \n",
    " #   makeplot(pltname, pltcontent, centre=center)\n",
    "\n",
    "######### Plot children\n",
    "    ### Obj a\n",
    "    '''\n",
    "    pltname = \" Unblended img a \";        pltcontent = unblends[0]\n",
    "    if plotflag > presetval:\n",
    "              makeplot(pltname, pltcontent, centre=center)\n",
    "\n",
    "    pltname = \" Deblended img a \";        pltcontent = children[0]\n",
    "    if plotflag > presetval:\n",
    "              makeplot(pltname, pltcontent, centre=center)\n",
    "\n",
    "\n",
    "    pltname = \" Resid of: (Deblended child a - Unblended img a) \";        pltcontent = (children[0] - unblends[0].array)\n",
    "    makeplot(pltname, pltcontent, centre=center)\n",
    "\n",
    "    # Normalize these        \n",
    "    pltname = \" Resid of: (Deblended child a - Unblended img a) / Unblended img a \";        pltcontent = (children[0] - unblends[0].array)/  unblends[0].array\n",
    "    makeplot(pltname, pltcontent, centre=center)\n",
    "\n",
    "\n",
    "    pltname = \" Colorbar = -1 to 1 & Resid of: (Deblended child a - Unblended img a) / Unblended img a \";        pltcontent = (children[0] - unblends[0].array)/  unblends[0].array\n",
    "    makeplot(pltname, pltcontent, centre=center, colorbarlimit=1)\n",
    "\n",
    "    peakval = unblends[0].array[acent[0], acent[1]]\n",
    "    print \" peakval = \", peakval\n",
    "    '''\n",
    "\n",
    "    pltname = \" Resid of: (Deblended child a - Unblended img a) / peak val of a \";        pltcontent = (children[0] - unblends[0].array)/  peakval\n",
    "    makeplot(pltname, pltcontent, centre=center)\n",
    "\n",
    "'''    pltname = \" Resid of: (Unblended img a) / Unblended img a \";        pltcontent = (unblends[0].array)/  unblends[0].array\n",
    "    if plotflag > presetval:\n",
    "              makeplot(pltname, pltcontent, centre=center)\n",
    "\n",
    "    ### Obj b\n",
    "    pltname = \" Unblended img b \";        pltcontent = unblends[1]\n",
    "    if plotflag > presetval:\n",
    "              makeplot(pltname, pltcontent, centre=center)\n",
    "\n",
    "    pltname = \" Deblended img b \";        pltcontent = children[1]\n",
    "    if plotflag > presetval:\n",
    "              makeplot(pltname, pltcontent, centre=center)\n",
    "\n",
    "    pltname = \" Resid of: (Deblended child b - Unblended img b) \";        pltcontent = children[1] - unblends[1].array \n",
    "    makeplot(pltname, pltcontent, centre=center)\n",
    "\n",
    "    # Normalized\n",
    "    pltname = \" Resid of: (Deblended child b - Unblended img b) /  Unblended img b \";        pltcontent = (children[1] - unblends[1].array ) /  unblends[1].array \n",
    "    makeplot(pltname, pltcontent ,  centre=center)\n",
    "\n",
    "    pltname = \" Colorbar = -1 to 1 & Resid of: (Deblended child b - Unblended img b) /  Unblended img b \";        pltcontent = (children[1] - unblends[1].array ) /  unblends[1].array \n",
    "    makeplot(pltname, pltcontent , colorbarlimit=1, centre=center)\n",
    "\n",
    "    peakval = unblends[1].array[bcent[0], bcent[1]]\n",
    "    print \" peakval = \", peakval\n",
    "\n",
    "    pltname = \" Resid of: (Deblended child b - Unblended img b) / peak val of b \";        pltcontent = (children[1] - unblends[1].array)/  peakval\n",
    "    makeplot(pltname, pltcontent, centre=center)\n",
    "\n",
    "    pltname = \" Resid of: (Unblended img b) /  Unblended img b \";        pltcontent = (unblends[1].array ) / unblends[1].array \n",
    "    makeplot(pltname, pltcontent, colorbarlimit=1, centre=center)\n",
    "\n",
    "'''\n",
    ";"
   ]
  },
  {
   "cell_type": "code",
   "execution_count": null,
   "metadata": {
    "collapsed": true
   },
   "outputs": [],
   "source": []
  }
 ],
 "metadata": {
  "kernelspec": {
   "display_name": "Python 2",
   "language": "python",
   "name": "python2"
  },
  "language_info": {
   "codemirror_mode": {
    "name": "ipython",
    "version": 2
   },
   "file_extension": ".py",
   "mimetype": "text/x-python",
   "name": "python",
   "nbconvert_exporter": "python",
   "pygments_lexer": "ipython2",
   "version": "2.7.10"
  }
 },
 "nbformat": 4,
 "nbformat_minor": 0
}
